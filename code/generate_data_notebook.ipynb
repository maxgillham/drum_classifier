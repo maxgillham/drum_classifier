{
 "cells": [
  {
   "cell_type": "code",
   "execution_count": 1,
   "metadata": {},
   "outputs": [],
   "source": [
    "%matplotlib inline"
   ]
  },
  {
   "cell_type": "code",
   "execution_count": 2,
   "metadata": {},
   "outputs": [],
   "source": [
    "import numpy as np\n",
    "import librosa\n",
    "import os\n",
    "\n",
    "from sound_dict import sound_string_to_num, sound_num_to_string"
   ]
  },
  {
   "cell_type": "code",
   "execution_count": 3,
   "metadata": {},
   "outputs": [
    {
     "name": "stdout",
     "output_type": "stream",
     "text": [
      "['hihat_1.wav', 'hihat_2.wav', 'hihat_3.wav', 'hihat_4.wav', 'hihat_5.wav', 'hihat_6.wav', 'hihat_7.wav', 'hihat_8.wav', 'kick_1.wav', 'kick_2.wav', 'kick_3.wav', 'kick_4.wav', 'kick_5.wav', 'kick_6.wav', 'kick_7.wav', 'kick_8.wav', 'snare_1.wav', 'snare_2.wav', 'snare_3.wav', 'snare_4.wav', 'snare_5.wav', 'snare_6.wav', 'snare_7.wav', 'snare_8.wav']\n"
     ]
    }
   ],
   "source": [
    "'''\n",
    "Same process for test data, just directory is changed to testing folder\n",
    "'''\n",
    "os.chdir(r\"C:\\Users\\maxfg\\Desktop\\beatBox\\datastore\\training\")\n",
    "mfcc_list = []\n",
    "lengths = []\n",
    "labels = []\n",
    "files = os.listdir(os.getcwd())\n",
    "print(files)"
   ]
  },
  {
   "cell_type": "code",
   "execution_count": 4,
   "metadata": {},
   "outputs": [
    {
     "name": "stdout",
     "output_type": "stream",
     "text": [
      "number of samples  24 number of labels  24 \n",
      "new length to padd each sample  38\n"
     ]
    }
   ],
   "source": [
    "for i in range(len(files)):\n",
    "    wav, sample_rate = librosa.load(files[i], mono=True, sr=None)\n",
    "    wav = wav[::3]\n",
    "    mfcc = librosa.feature.mfcc(wav, sr=16000)\n",
    "    mfcc_list.append(mfcc)\n",
    "    lengths.append(mfcc.shape[1])\n",
    "    labels.append(sound_string_to_num[files[i].split('_')[0]])\n",
    "print('number of samples ', len(mfcc_list), 'number of labels ', len(labels), '\\nnew length to padd each sample ', max(lengths))"
   ]
  },
  {
   "cell_type": "code",
   "execution_count": 5,
   "metadata": {},
   "outputs": [
    {
     "name": "stdout",
     "output_type": "stream",
     "text": [
      "training data shape (24, 20, 38)\n"
     ]
    }
   ],
   "source": [
    "pad_length = max(lengths)\n",
    "for i in range(len(mfcc_list)):\n",
    "    pad_width = pad_length - mfcc_list[i].shape[1]\n",
    "    mfcc_list[i] = np.pad(mfcc_list[i], pad_width=((0,0),(0,pad_width)), mode='constant')\n",
    "mfcc_list = np.array(mfcc_list)\n",
    "print('training data shape', mfcc_list.shape)"
   ]
  }
 ],
 "metadata": {
  "kernelspec": {
   "display_name": "Python 3",
   "language": "python",
   "name": "python3"
  },
  "language_info": {
   "codemirror_mode": {
    "name": "ipython",
    "version": 3
   },
   "file_extension": ".py",
   "mimetype": "text/x-python",
   "name": "python",
   "nbconvert_exporter": "python",
   "pygments_lexer": "ipython3",
   "version": "3.6.4"
  }
 },
 "nbformat": 4,
 "nbformat_minor": 1
}
