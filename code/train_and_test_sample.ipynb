{
 "cells": [
  {
   "cell_type": "code",
   "execution_count": null,
   "metadata": {},
   "outputs": [],
   "source": [
    "%matplotlib inline"
   ]
  },
  {
   "cell_type": "code",
   "execution_count": null,
   "metadata": {
    "scrolled": false
   },
   "outputs": [],
   "source": [
    "from keras.models import Sequential, load_model\n",
    "from keras.layers import Dense, Conv2D, Flatten, MaxPooling2D\n",
    "from keras.optimizers import Adadelta\n",
    "from keras.utils import to_categorical\n",
    "\n",
    "from generate_data import form_training_data, form_testing_data\n",
    "from sound_dict import sound_num_to_string\n",
    "\n",
    "import matplotlib.pyplot as plt\n",
    "import numpy as np"
   ]
  },
  {
   "cell_type": "code",
   "execution_count": null,
   "metadata": {
    "scrolled": false
   },
   "outputs": [],
   "source": [
    "x_data, y_data, pad_length = form_training_data()\n",
    "test_data, correct_outputs = form_testing_data(pad_length)\n",
    "print('Input data shape', x_data.shape, '\\nOutput list length', len(y_data), '\\nPadding max length', pad_length)"
   ]
  },
  {
   "cell_type": "code",
   "execution_count": null,
   "metadata": {},
   "outputs": [],
   "source": [
    "x_data = x_data.reshape((x_data.shape[0], x_data.shape[1], x_data.shape[2], 1))\n",
    "y_data = to_categorical(y_data)\n",
    "test_data = test_data.reshape((test_data.shape[0], test_data.shape[1], test_data.shape[2], 1))\n",
    "print('Input shape for CNN 2D',x_data.shape,'\\nOutput shape for CNN 2D', y_data.shape)"
   ]
  },
  {
   "cell_type": "code",
   "execution_count": null,
   "metadata": {},
   "outputs": [],
   "source": [
    "    model = Sequential()\n",
    "    model.add(Conv2D(8, kernel_size=(2,2), activation='softmax', data_format='channels_last', input_shape=(x_data.shape[1],x_data.shape[2],1)))\n",
    "    model.add(MaxPooling2D(pool_size=(2,2), padding='valid'))\n",
    "    model.add(Flatten())\n",
    "    model.add(Dense(3, activation='softmax'))\n",
    "\n",
    "    ada = Adadelta(lr=1e-1)\n",
    "\n",
    "    model.compile(loss='categorical_crossentropy', optimizer=ada)"
   ]
  },
  {
   "cell_type": "code",
   "execution_count": null,
   "metadata": {},
   "outputs": [],
   "source": [
    "    history = model.fit(x_data,y_data,epochs=500, batch_size=1, verbose=0)"
   ]
  },
  {
   "cell_type": "code",
   "execution_count": null,
   "metadata": {},
   "outputs": [],
   "source": [
    "    plt.plot(history.history['loss'])\n",
    "    plt.show()"
   ]
  },
  {
   "cell_type": "code",
   "execution_count": null,
   "metadata": {},
   "outputs": [],
   "source": [
    "output = model.predict(test_data)\n",
    "for i in range(output.shape[0]):\n",
    "    print('\\nSnare guess: ', np.round(output[i, 0], 3), 'Hihat guess: ', np.round(output[i, 1], 3), 'Kick guess: ', np.round(output[i, 2],3))\n",
    "    print(sound_num_to_string[correct_outputs[i]], ' is the correct answer')"
   ]
  }
 ],
 "metadata": {
  "kernelspec": {
   "display_name": "Python 3",
   "language": "python",
   "name": "python3"
  },
  "language_info": {
   "codemirror_mode": {
    "name": "ipython",
    "version": 3
   },
   "file_extension": ".py",
   "mimetype": "text/x-python",
   "name": "python",
   "nbconvert_exporter": "python",
   "pygments_lexer": "ipython3",
   "version": "3.6.4"
  }
 },
 "nbformat": 4,
 "nbformat_minor": 1
}
